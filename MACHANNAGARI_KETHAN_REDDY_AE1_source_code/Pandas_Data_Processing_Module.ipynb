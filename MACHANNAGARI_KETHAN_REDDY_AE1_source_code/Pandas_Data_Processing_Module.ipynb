{
 "cells": [
  {
   "cell_type": "markdown",
   "id": "62733b61",
   "metadata": {},
   "source": [
    "Pandas Data Processing Module"
   ]
  },
  {
   "cell_type": "markdown",
   "id": "c25086be",
   "metadata": {},
   "source": [
    "Loads Data set using Pandas"
   ]
  },
  {
   "cell_type": "code",
   "execution_count": null,
   "id": "0db20816",
   "metadata": {},
   "outputs": [],
   "source": [
    "import pandas as pd\n",
    "\n",
    "def data_processing_pandas(df):\n",
    "    try:\n",
    "        data = pd.read_csv(df)\n",
    "        print(\"Data Loaded Successfully!\")\n",
    "        return data\n",
    "    except IOError:\n",
    "        print(\"Unable to read/open file name or file path\")\n",
    "df = \"HR_Metrics.csv\"\n",
    "D= data_processing_pandas(df)"
   ]
  },
  {
   "cell_type": "markdown",
   "id": "ef2aac67",
   "metadata": {},
   "source": [
    "Function to identify the top 3 job titles with the highest number of employees recruited for each position based on their educational standard."
   ]
  },
  {
   "cell_type": "code",
   "execution_count": null,
   "id": "ca2c6975",
   "metadata": {},
   "outputs": [],
   "source": [
    "def top_job_roles_by_education_level(D):\n",
    "    top_roles = D.groupby(['Education_level', 'Job_Role']).size().groupby(level=0, group_keys=False).nlargest(3)\n",
    "    print(\"Top 3 job roles by education level:\")\n",
    "    print(top_roles)"
   ]
  },
  {
   "cell_type": "markdown",
   "id": "fb912209",
   "metadata": {},
   "source": [
    "Function to analyse the mean of monthly rate of employees based on each education level."
   ]
  },
  {
   "cell_type": "code",
   "execution_count": null,
   "id": "9ce01413",
   "metadata": {},
   "outputs": [],
   "source": [
    "def average_monthly_rate(D):\n",
    "    avg_rate = D.groupby('Education_level')['Monthly_Rate'].mean()\n",
    "    print(\"Average Monthly Rate by Education Level:\")\n",
    "    print(avg_rate)"
   ]
  },
  {
   "cell_type": "markdown",
   "id": "8ac5ce9c",
   "metadata": {},
   "source": [
    "Analyse the average tenure of employment for employees in a specific department within\n",
    "the company."
   ]
  },
  {
   "cell_type": "code",
   "execution_count": null,
   "id": "f79d24ad",
   "metadata": {},
   "outputs": [],
   "source": [
    "def tenure_of_employment(D):\n",
    "    tenure_of_employment = D.groupby('Department')['Years_At_Company'].mean()\n",
    "    print(\"Average Tenure of employment for employees in a Each Department:\")\n",
    "    print(tenure_of_employment) "
   ]
  },
  {
   "cell_type": "markdown",
   "id": "86689711",
   "metadata": {},
   "source": [
    "Calculating average monthly income for each job role.(Own Selected attributes)"
   ]
  },
  {
   "cell_type": "code",
   "execution_count": null,
   "id": "f8fed4b8",
   "metadata": {},
   "outputs": [],
   "source": [
    "def monthly_income(D):\n",
    "    monthly_income= D.groupby('Job_Role')['Monthly_Income'].mean()\n",
    "    print(\"Average Monthly Income Of Employee based on Specific Jobe Role:\")\n",
    "    print(monthly_income)"
   ]
  }
 ],
 "metadata": {
  "kernelspec": {
   "display_name": "COM728",
   "language": "python",
   "name": "com728"
  },
  "language_info": {
   "codemirror_mode": {
    "name": "ipython",
    "version": 3
   },
   "file_extension": ".py",
   "mimetype": "text/x-python",
   "name": "python",
   "nbconvert_exporter": "python",
   "pygments_lexer": "ipython3",
   "version": "3.10.14"
  }
 },
 "nbformat": 4,
 "nbformat_minor": 5
}
