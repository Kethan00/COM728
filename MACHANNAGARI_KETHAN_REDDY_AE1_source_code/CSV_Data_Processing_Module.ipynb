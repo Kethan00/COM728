{
 "cells": [
  {
   "cell_type": "markdown",
   "id": "ea90a059",
   "metadata": {},
   "source": [
    "Function to load the data from a CSV file into memory using the CSV module"
   ]
  },
  {
   "cell_type": "code",
   "execution_count": null,
   "id": "53f30a28",
   "metadata": {},
   "outputs": [],
   "source": [
    "# importing python library\n",
    "import csv\n",
    "\n",
    "def data_processing_csv():\n",
    "    data = []\n",
    "\n",
    "    data_set = input(\"Provide Path for data :\")\n",
    "    \n",
    "    try:\n",
    "        if data_set == \"\":\n",
    "            with open(data_set,encoding=\"utf8\") as file_reader:\n",
    "                reader = csv.reader(file_reader)\n",
    "                headings = next(reader)\n",
    "                for data_points in reader:\n",
    "                    data.append(data_points)\n",
    "            print(\"Data has been loaded.\")\n",
    "            return data\n",
    "        else:\n",
    "            with open(data_set) as file_reader:\n",
    "                reader = csv.reader(file_reader)\n",
    "                headings = next(reader)\n",
    "                for data_points in reader:\n",
    "                    data.append(data_points)\n",
    "            print(\"Data has been loaded.\")        \n",
    "            return data\n",
    "    except IOError:\n",
    "        print(\"Not able to open file.!\")\n",
    "data_set =data_processing_csv()"
   ]
  },
  {
   "cell_type": "markdown",
   "id": "e41e61b2",
   "metadata": {},
   "source": [
    "Function to Retrieve the Gender, Age, Marital Status, and Department based on the Employee number."
   ]
  },
  {
   "cell_type": "code",
   "execution_count": null,
   "id": "a1f96846",
   "metadata": {},
   "outputs": [],
   "source": [
    "def employee_details(data_set):\n",
    "    Employee_Number = input(\"Enter the Employee number to retrieve data : \")\n",
    "    found = False\n",
    "    for data in data_set:\n",
    "        if data[1] == Employee_Number:\n",
    "            found = True\n",
    "            print(f\"Gender : {data[9]}\",\"\\n\",f\"Age : {data[4]}\",\"\\n\",f\"Martial Status : {data[11]}\",\"\\n\",f\"Department : {data[7]}\")\n",
    "            break\n",
    "    if not found:\n",
    "        print(\"Employee not found\")"
   ]
  },
  {
   "cell_type": "markdown",
   "id": "72fb7004",
   "metadata": {},
   "source": [
    "Function to retrieve the Department, Education level, Total Working Years, and Standard Hours\n",
    "associated based on specific Job Role."
   ]
  },
  {
   "cell_type": "code",
   "execution_count": null,
   "id": "044e9bba",
   "metadata": {
    "scrolled": false
   },
   "outputs": [],
   "source": [
    "def professional_details(data_set):\n",
    "        job_role = input(\"Enter the job role of Employee to retrieve data : \").strip().lower()\n",
    "        column_names = [\"DEPARTMENT\", \"EDUCATION LEVEL\", \"TOTAL WORKING YEARS\", \"STANDARD HOURS\"]\n",
    "        print(f\"[{column_names[0]:^15}|{column_names[1]:^25}|{column_names[2]:^25}|{column_names[3]:^20}]\")\n",
    "        print(92*'-')\n",
    "        found = False\n",
    "        for data in data_set:\n",
    "            if data[10].lower() == job_role:\n",
    "                found = True\n",
    "                print(f\"[{data[7]:^15}|{data[17]:^25}|{data[33]:^25}|{data[30]:^20}]\")\n",
    "        if not found:\n",
    "            print(f\"No job role found of: {job_role}, please enter a valid Job Role !\")"
   ]
  },
  {
   "cell_type": "markdown",
   "id": "07fb5ecd",
   "metadata": {},
   "source": [
    "Function to the Retrieve the Employee Number, Job Role, Marital Status, and Hourly Rate of employees whose\n",
    "Standard Hours are less than 60 hours based on the department."
   ]
  },
  {
   "cell_type": "code",
   "execution_count": null,
   "id": "9e3f34cf",
   "metadata": {},
   "outputs": [],
   "source": [
    "def department_details(data_set):\n",
    "    department = input(\"Enter the Department of Employee to retrieve data : \").strip().lower()\n",
    "    column_names = [\"EMPLOYEE NUMBER\", \"JOB ROLE\", \"MARITAL STATUS\", \"HOURLY RATE\"]\n",
    "    print(f\"[{column_names[0]:^20}|{column_names[1]:^27}|{column_names[2]:^20}|{column_names[3]:^20}]\")\n",
    "    print(92*'-')\n",
    "    found = False\n",
    "    for data in data_set:\n",
    "        if data[7].lower() == department and int(data[30]) < 60:\n",
    "            found = True\n",
    "            print(f\"[{data[1]:^20}|{data[10]:^27}|{data[11]:^20}|{data[20]:^20}]\")\n",
    "    if not found:\n",
    "            print(f\"No Department found of: {department}, please enter a valid Departmernt!\")"
   ]
  },
  {
   "cell_type": "markdown",
   "id": "63962144",
   "metadata": {},
   "source": [
    "Function to Retrieve the Monthly Income,Performance Rating,Job Involvement,Job Satisfaction based of Employee Number.\n",
    "(specific condition )"
   ]
  },
  {
   "cell_type": "code",
   "execution_count": null,
   "id": "e11e4aae",
   "metadata": {},
   "outputs": [],
   "source": [
    "def important_details(data_set):\n",
    "    Employee_Number = input(\"Enter the Employee number to retrieve data : \")\n",
    "    found = False\n",
    "    for data in data_set:\n",
    "        if data[1] == Employee_Number:\n",
    "            found = True\n",
    "            print(f\"Monthly_Income : {data[24]}\",\"\\n\",f\"Performance_Rating : {data[28]}\",\"\\n\",f\"Job_Involvement : {data[21]}\",\"\\n\",f\"job_Satisfaction : {data[23]}\")\n",
    "            break\n",
    "            \n",
    "    if not found:\n",
    "        print(\"Employee not found.\")"
   ]
  },
  {
   "cell_type": "code",
   "execution_count": null,
   "id": "094a88a5",
   "metadata": {},
   "outputs": [],
   "source": []
  }
 ],
 "metadata": {
  "kernelspec": {
   "display_name": "COM728",
   "language": "python",
   "name": "com728"
  },
  "language_info": {
   "codemirror_mode": {
    "name": "ipython",
    "version": 3
   },
   "file_extension": ".py",
   "mimetype": "text/x-python",
   "name": "python",
   "nbconvert_exporter": "python",
   "pygments_lexer": "ipython3",
   "version": "3.10.14"
  }
 },
 "nbformat": 4,
 "nbformat_minor": 5
}
