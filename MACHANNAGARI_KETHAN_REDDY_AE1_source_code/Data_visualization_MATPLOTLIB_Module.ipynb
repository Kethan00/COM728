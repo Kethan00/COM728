{
 "cells": [
  {
   "cell_type": "code",
   "execution_count": null,
   "id": "9054a38f",
   "metadata": {},
   "outputs": [],
   "source": [
    "#import necessary python libraries\n",
    "import matplotlib.pyplot as plt\n",
    "import pandas as pd\n",
    "import warnings"
   ]
  },
  {
   "cell_type": "code",
   "execution_count": null,
   "id": "6cd26f32",
   "metadata": {},
   "outputs": [],
   "source": [
    "#import Panda_Data_Processing_Module file to load the dataset from task B\n",
    "import Pandas_Data_Processing_Module\n",
    "from Pandas_Data_Processing_Module import*"
   ]
  },
  {
   "cell_type": "markdown",
   "id": "4e3a7b67",
   "metadata": {},
   "source": [
    "Display the proportion of Employees of Company based on their Education Levels using Pie Chart."
   ]
  },
  {
   "cell_type": "code",
   "execution_count": null,
   "id": "f5f96758",
   "metadata": {},
   "outputs": [],
   "source": [
    "def proportion_employees(D):\n",
    "    education_proportion = D['Education_level'].value_counts()\n",
    "    colors = ['#ff9999', '#66b3ff', '#99ff99', '#ffcc99', '#c2c2f0', '#ffb3e6']\n",
    "    plt.figure(figsize=(8, 6))\n",
    "    plt.pie(education_proportion, labels=education_proportion.index, autopct='%1.1f%%',colors=colors[:len(education_proportion)])\n",
    "    plt.legend(education_proportion.index,title='Education Levels',bbox_to_anchor=(1, 1.5),loc='best')\n",
    "    plt.title('Proportion of Employees by Education Level')\n",
    "    plt.show()"
   ]
  },
  {
   "cell_type": "markdown",
   "id": "4f7c4ea2",
   "metadata": {},
   "source": [
    "Display the Comparision of frequency of employee training in each Education Field using Bar Chart."
   ]
  },
  {
   "cell_type": "code",
   "execution_count": null,
   "id": "33087ca9",
   "metadata": {},
   "outputs": [],
   "source": [
    "def frequency_of_training(D):\n",
    "    plt.figure(figsize = (12,8))\n",
    "    y =D['Education_Field'].value_counts()\n",
    "    x = y.index\n",
    "    plt.bar(x,y)\n",
    "    plt.title('Bar chart Displaying the frequency of employee training in each Education field.')\n",
    "    plt.xlabel('Education Field')\n",
    "    plt.ylabel('Frequency of employee training')\n",
    "    plt.show()"
   ]
  },
  {
   "cell_type": "markdown",
   "id": "4ebfb341",
   "metadata": {},
   "source": [
    "Display the Chart to visualize how job satisfaction values varies across the various job levels in specific department, in a single chart."
   ]
  },
  {
   "cell_type": "code",
   "execution_count": null,
   "id": "e56c030a",
   "metadata": {},
   "outputs": [],
   "source": [
    "def job_satisfaction_by_department(D):\n",
    "    plt.figure(figsize = (12,8))\n",
    "    satisfaction_department = D.groupby(['Department','Job_Level'])['Job_Satisfaction'].mean().unstack()\n",
    "    satisfaction_department.plot.bar(width = 0.8)\n",
    "    plt.title('Variation of Job Satisfaction in different Job Levels within the specific Department')\n",
    "    plt.xlabel('Department')\n",
    "    plt.ylabel('Job Satisfaction')\n",
    "    plt.xticks(rotation=0)\n",
    "    plt.legend(title='Job Level',bbox_to_anchor=(1.05, 1),loc='upper left')\n",
    "    plt.show()"
   ]
  },
  {
   "cell_type": "markdown",
   "id": "23d3162a",
   "metadata": {},
   "source": [
    "Display the percent of the salary hike for each Job Role."
   ]
  },
  {
   "cell_type": "code",
   "execution_count": null,
   "id": "11ad7620",
   "metadata": {},
   "outputs": [],
   "source": [
    "def Salary_hike_across_jobroles(D):\n",
    "    plt.figure(figsize=(12, 8))\n",
    "    selected_data = D[['Job_Role','Percent_Salary_Hike']]\n",
    "    selected_data.boxplot(by = 'Job_Role',figsize=(12, 8))\n",
    "    plt.title('Perecentage of salary hike Across Job Roles')\n",
    "    plt.xlabel('Job Role')\n",
    "    plt.ylabel('Percent of Salary Hike')\n",
    "    plt.xticks(rotation=45)\n",
    "    plt.tight_layout()\n",
    "    plt.show()"
   ]
  }
 ],
 "metadata": {
  "kernelspec": {
   "display_name": "COM728",
   "language": "python",
   "name": "com728"
  },
  "language_info": {
   "codemirror_mode": {
    "name": "ipython",
    "version": 3
   },
   "file_extension": ".py",
   "mimetype": "text/x-python",
   "name": "python",
   "nbconvert_exporter": "python",
   "pygments_lexer": "ipython3",
   "version": "3.10.14"
  }
 },
 "nbformat": 4,
 "nbformat_minor": 5
}
