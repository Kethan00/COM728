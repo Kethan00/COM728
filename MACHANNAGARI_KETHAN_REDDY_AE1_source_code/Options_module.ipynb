{
 "cells": [
  {
   "cell_type": "code",
   "execution_count": null,
   "id": "f01f1fa2",
   "metadata": {},
   "outputs": [],
   "source": [
    "def options(choice =0):\n",
    "    if choice  == 0 or choice == \"\":\n",
    "        choice = int(input(\"\"\"Select one of the following :\n",
    "        [1] Retrieve Data via CSV Module.\n",
    "        [2] Retrieve Data via Pandas module.\n",
    "        [3] Visual Data Analysis.\n",
    "        [4] Exit/Back to Main Menu.\n",
    "        \n",
    "        Choose an option =\"\"\"))\n",
    "        return choice\n",
    "   \n",
    "    \n",
    "    elif choice ==1:\n",
    "        choice = int(input(\"\"\"Select one of the following :\n",
    "        [1] Fetc  h information (Gender, Age, Marital Status, Department) based on the Employee number.\n",
    "        [2] Fetch information (Department, Education level, Total Working Years, Standard Hours) associated with a particular Job Role.\n",
    "        [3] Fetch information (Employee Number, Job Role, Marital Status,Hourly Rate) of employees whose standard hours are under 60, categorized by department.\n",
    "        [4] Fetch data (Monthly Income,Performance Rating,Job Involvement,Job Satisfaction) based on employee number.\n",
    "        [5] Exit/Back to Main Menu.\n",
    "        \n",
    "        Choose an option =\"\"\"))\n",
    "        return choice\n",
    "    \n",
    "    elif choice == 2:\n",
    "        choice = int(input(\"\"\"Select one of the following :\n",
    "        [1] Identifying the top 3 job roles with most employees hired for each role according to their education level.\n",
    "        [2] Analyse the average monthly rate of employees based on particular education level. \n",
    "        [3] Analyze the average duration of employment for staff in a particular department within the organization.\n",
    "        [4] Analyse average Monthly Income for each job role.\n",
    "        [5] Exit/Back to Main Menu.\n",
    "        \n",
    "        \n",
    "        Choose an option =\"\"\"))\n",
    "        return choice\n",
    "    \n",
    "    elif choice == 3:\n",
    "        choice = int(input(\"\"\"Select one of the following :\n",
    "        [1] Display the proportion of employees of company based on their education levels.\n",
    "        [2] Display the chart to visually compare the number of employee training in specific education field.\n",
    "        [3] Display the chart illustrating the variation in job satisfaction ratings across various job levels within each department.\n",
    "        [4] Display the percent of the salary hike for each Job Role. \n",
    "        [5] Exit/Back to Main Menu.\n",
    "   \n",
    "        Choose an option =\"\"\"))\n",
    "        return choice\n",
    "    else:\n",
    "        print(\"Please make a valid selection.\")\n"
   ]
  },
  {
   "cell_type": "code",
   "execution_count": null,
   "id": "874bf7fb",
   "metadata": {},
   "outputs": [],
   "source": []
  }
 ],
 "metadata": {
  "kernelspec": {
   "display_name": "COM728",
   "language": "python",
   "name": "com728"
  },
  "language_info": {
   "codemirror_mode": {
    "name": "ipython",
    "version": 3
   },
   "file_extension": ".py",
   "mimetype": "text/x-python",
   "name": "python",
   "nbconvert_exporter": "python",
   "pygments_lexer": "ipython3",
   "version": "3.10.14"
  }
 },
 "nbformat": 4,
 "nbformat_minor": 5
}
